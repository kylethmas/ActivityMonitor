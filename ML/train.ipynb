{
 "cells": [
  {
   "cell_type": "code",
   "execution_count": 2,
   "metadata": {
    "collapsed": true
   },
   "outputs": [],
   "source": [
    "import tensorflow as tf\n",
    "from tensorflow.keras.layers import Conv2D, MaxPooling2D, Flatten, Dense, Dropout, Reshape, Conv1D, MaxPooling1D"
   ]
  },
  {
   "cell_type": "markdown",
   "source": [
    "# Data preprocessing"
   ],
   "metadata": {
    "collapsed": false
   }
  },
  {
   "cell_type": "code",
   "execution_count": 3,
   "outputs": [],
   "source": [
    "#import the data from npz file\n",
    "import numpy as np\n",
    "\n",
    "baby_cry = np.load('output/baby_cry_617061.npz')\n",
    "dog_bark = np.load('output/dog_bark_142963.npz')\n",
    "glassbreak = np.load(\"output/glassbreak_436662.npz\")\n",
    "people_taling = np.load(\"output/people_talking_590036.npz\")\n",
    "\n"
   ],
   "metadata": {
    "collapsed": false
   }
  },
  {
   "cell_type": "code",
   "execution_count": 34,
   "outputs": [
    {
     "data": {
      "text/plain": "(200, 26, 625)"
     },
     "execution_count": 34,
     "metadata": {},
     "output_type": "execute_result"
    }
   ],
   "source": [
    "#merge the data and create labels\n",
    "X = np.concatenate((baby_cry['mfccs'], dog_bark['mfccs'], glassbreak['mfccs'], people_taling['mfccs']))\n",
    "y = np.concatenate(([\"baby_cry\"] * baby_cry['mfccs'].shape[0], [\"dog_bark\"] * dog_bark['mfccs'].shape[0],\n",
    "                    [\"glassbreak\"] * glassbreak['mfccs'].shape[0], [\"people_taling\"] * people_taling['mfccs'].shape[0]))\n",
    "X.shape"
   ],
   "metadata": {
    "collapsed": false
   }
  },
  {
   "cell_type": "markdown",
   "source": [
    "# Data Labeling"
   ],
   "metadata": {
    "collapsed": false
   }
  },
  {
   "cell_type": "code",
   "execution_count": 35,
   "outputs": [],
   "source": [
    "#labels to numbers\n",
    "from sklearn.preprocessing import LabelEncoder\n",
    "\n",
    "le = LabelEncoder()\n",
    "y = le.fit_transform(y)\n",
    "\n"
   ],
   "metadata": {
    "collapsed": false
   }
  },
  {
   "cell_type": "code",
   "execution_count": 36,
   "outputs": [],
   "source": [
    "#get only 375 of axis 3\n",
    "first = X[:, :, :375]\n",
    "second = X[:, :, -375:]\n",
    "X = np.concatenate((first, second), axis=0)\n",
    "y = np.concatenate((y, y), axis=0)"
   ],
   "metadata": {
    "collapsed": false
   }
  },
  {
   "cell_type": "code",
   "execution_count": 37,
   "outputs": [],
   "source": [
    "#reshape the data\n"
   ],
   "metadata": {
    "collapsed": false
   }
  },
  {
   "cell_type": "code",
   "execution_count": 38,
   "outputs": [],
   "source": [
    "num_mfcc = X.shape[1]\n",
    "num_frames = X.shape[2]\n",
    "num_classes = len(np.unique(y))"
   ],
   "metadata": {
    "collapsed": false
   }
  },
  {
   "cell_type": "code",
   "execution_count": 39,
   "outputs": [
    {
     "data": {
      "text/plain": "(400, 26, 375)"
     },
     "execution_count": 39,
     "metadata": {},
     "output_type": "execute_result"
    }
   ],
   "source": [
    "X.shape"
   ],
   "metadata": {
    "collapsed": false
   }
  },
  {
   "cell_type": "markdown",
   "source": [
    "# Machine learning model"
   ],
   "metadata": {
    "collapsed": false
   }
  },
  {
   "cell_type": "code",
   "execution_count": 63,
   "outputs": [],
   "source": [
    "#Machine learning model.\n",
    "model = tf.keras.Sequential()\n",
    "model.add(Conv2D(16, (2, 2), activation='relu', input_shape=(num_mfcc, num_frames, 1)))\n",
    "model.add(MaxPooling2D((2, 2), strides=(2, 2), padding='same'))\n",
    "model.add(Conv2D(8, (3, 3), activation='relu'))\n",
    "model.add(MaxPooling2D((2, 2), strides=(2, 2), padding='same'))\n",
    "model.add(Flatten())\n",
    "model.add(Dense(64, activation='relu'))\n",
    "model.add(Dropout(0.2))\n",
    "model.add(Dense(num_classes, activation='softmax'))\n"
   ],
   "metadata": {
    "collapsed": false
   }
  },
  {
   "cell_type": "code",
   "execution_count": 64,
   "outputs": [
    {
     "name": "stdout",
     "output_type": "stream",
     "text": [
      "Model: \"sequential_5\"\n",
      "_________________________________________________________________\n",
      " Layer (type)                Output Shape              Param #   \n",
      "=================================================================\n",
      " conv2d_10 (Conv2D)          (None, 25, 374, 16)       80        \n",
      "                                                                 \n",
      " max_pooling2d_10 (MaxPoolin  (None, 13, 187, 16)      0         \n",
      " g2D)                                                            \n",
      "                                                                 \n",
      " conv2d_11 (Conv2D)          (None, 11, 185, 8)        1160      \n",
      "                                                                 \n",
      " max_pooling2d_11 (MaxPoolin  (None, 6, 93, 8)         0         \n",
      " g2D)                                                            \n",
      "                                                                 \n",
      " flatten_5 (Flatten)         (None, 4464)              0         \n",
      "                                                                 \n",
      " dense_10 (Dense)            (None, 64)                285760    \n",
      "                                                                 \n",
      " dropout_5 (Dropout)         (None, 64)                0         \n",
      "                                                                 \n",
      " dense_11 (Dense)            (None, 4)                 260       \n",
      "                                                                 \n",
      "=================================================================\n",
      "Total params: 287,260\n",
      "Trainable params: 287,260\n",
      "Non-trainable params: 0\n",
      "_________________________________________________________________\n"
     ]
    }
   ],
   "source": [
    "\n",
    "model.compile(optimizer=\"adam\", loss='sparse_categorical_crossentropy', metrics=['accuracy'])\n",
    "model.summary()"
   ],
   "metadata": {
    "collapsed": false
   }
  },
  {
   "cell_type": "markdown",
   "source": [
    "# Training"
   ],
   "metadata": {
    "collapsed": false
   }
  },
  {
   "cell_type": "code",
   "execution_count": 65,
   "outputs": [],
   "source": [
    "#split the data\n",
    "from sklearn.model_selection import train_test_split\n",
    "\n",
    "X_train, X_test, y_train, y_test = train_test_split(X, y, test_size=0.2, random_state=42)"
   ],
   "metadata": {
    "collapsed": false
   }
  },
  {
   "cell_type": "code",
   "execution_count": 67,
   "outputs": [
    {
     "name": "stdout",
     "output_type": "stream",
     "text": [
      "Epoch 1/50\n",
      "5/5 [==============================] - 0s 87ms/step - loss: 0.5408 - accuracy: 0.7531 - val_loss: 0.8863 - val_accuracy: 0.5625\n",
      "Epoch 2/50\n",
      "5/5 [==============================] - 0s 80ms/step - loss: 0.5041 - accuracy: 0.7500 - val_loss: 0.8483 - val_accuracy: 0.6875\n",
      "Epoch 3/50\n",
      "5/5 [==============================] - 0s 80ms/step - loss: 0.5144 - accuracy: 0.7156 - val_loss: 0.8268 - val_accuracy: 0.7125\n",
      "Epoch 4/50\n",
      "5/5 [==============================] - 0s 80ms/step - loss: 0.4486 - accuracy: 0.7719 - val_loss: 0.8141 - val_accuracy: 0.6875\n",
      "Epoch 5/50\n",
      "5/5 [==============================] - 0s 82ms/step - loss: 0.4461 - accuracy: 0.7906 - val_loss: 0.8041 - val_accuracy: 0.6750\n",
      "Epoch 6/50\n",
      "5/5 [==============================] - 0s 84ms/step - loss: 0.3711 - accuracy: 0.8375 - val_loss: 0.8116 - val_accuracy: 0.7500\n",
      "Epoch 7/50\n",
      "5/5 [==============================] - 0s 84ms/step - loss: 0.4916 - accuracy: 0.7312 - val_loss: 0.6897 - val_accuracy: 0.7875\n",
      "Epoch 8/50\n",
      "5/5 [==============================] - 0s 81ms/step - loss: 0.3720 - accuracy: 0.8500 - val_loss: 0.7351 - val_accuracy: 0.8250\n",
      "Epoch 9/50\n",
      "5/5 [==============================] - 0s 79ms/step - loss: 0.4241 - accuracy: 0.8219 - val_loss: 0.7801 - val_accuracy: 0.7250\n",
      "Epoch 10/50\n",
      "5/5 [==============================] - 0s 78ms/step - loss: 0.3677 - accuracy: 0.8375 - val_loss: 0.7574 - val_accuracy: 0.7875\n",
      "Epoch 11/50\n",
      "5/5 [==============================] - 0s 80ms/step - loss: 0.3305 - accuracy: 0.8562 - val_loss: 0.7732 - val_accuracy: 0.7875\n",
      "Epoch 12/50\n",
      "5/5 [==============================] - 0s 77ms/step - loss: 0.3189 - accuracy: 0.8438 - val_loss: 0.7018 - val_accuracy: 0.8125\n",
      "Epoch 13/50\n",
      "5/5 [==============================] - 0s 79ms/step - loss: 0.3568 - accuracy: 0.8156 - val_loss: 0.6772 - val_accuracy: 0.8500\n",
      "Epoch 14/50\n",
      "5/5 [==============================] - 0s 79ms/step - loss: 0.2580 - accuracy: 0.8750 - val_loss: 0.6753 - val_accuracy: 0.8125\n",
      "Epoch 15/50\n",
      "5/5 [==============================] - 0s 78ms/step - loss: 0.2854 - accuracy: 0.8656 - val_loss: 0.8129 - val_accuracy: 0.7625\n",
      "Epoch 16/50\n",
      "5/5 [==============================] - 0s 78ms/step - loss: 0.2772 - accuracy: 0.8750 - val_loss: 0.6999 - val_accuracy: 0.7625\n",
      "Epoch 17/50\n",
      "5/5 [==============================] - 0s 78ms/step - loss: 0.2418 - accuracy: 0.8875 - val_loss: 0.6472 - val_accuracy: 0.8375\n",
      "Epoch 18/50\n",
      "5/5 [==============================] - 0s 78ms/step - loss: 0.2246 - accuracy: 0.8844 - val_loss: 0.6338 - val_accuracy: 0.8125\n",
      "Epoch 19/50\n",
      "5/5 [==============================] - 0s 79ms/step - loss: 0.2417 - accuracy: 0.8594 - val_loss: 0.6593 - val_accuracy: 0.8125\n",
      "Epoch 20/50\n",
      "5/5 [==============================] - 0s 77ms/step - loss: 0.2249 - accuracy: 0.9094 - val_loss: 0.7016 - val_accuracy: 0.7750\n",
      "Epoch 21/50\n",
      "5/5 [==============================] - 0s 78ms/step - loss: 0.2125 - accuracy: 0.8906 - val_loss: 0.6661 - val_accuracy: 0.8000\n",
      "Epoch 22/50\n",
      "5/5 [==============================] - 0s 77ms/step - loss: 0.2143 - accuracy: 0.8813 - val_loss: 0.6586 - val_accuracy: 0.8375\n",
      "Epoch 23/50\n",
      "5/5 [==============================] - 0s 78ms/step - loss: 0.2127 - accuracy: 0.8813 - val_loss: 0.6982 - val_accuracy: 0.7625\n",
      "Epoch 24/50\n",
      "5/5 [==============================] - 0s 79ms/step - loss: 0.2156 - accuracy: 0.8969 - val_loss: 0.7994 - val_accuracy: 0.8000\n",
      "Epoch 25/50\n",
      "5/5 [==============================] - 0s 80ms/step - loss: 0.2451 - accuracy: 0.8719 - val_loss: 0.7831 - val_accuracy: 0.7750\n",
      "Epoch 26/50\n",
      "5/5 [==============================] - 0s 79ms/step - loss: 0.1986 - accuracy: 0.9000 - val_loss: 0.5982 - val_accuracy: 0.8750\n",
      "Epoch 27/50\n",
      "5/5 [==============================] - 0s 79ms/step - loss: 0.2001 - accuracy: 0.8844 - val_loss: 0.6476 - val_accuracy: 0.8250\n",
      "Epoch 28/50\n",
      "5/5 [==============================] - 0s 81ms/step - loss: 0.1709 - accuracy: 0.9125 - val_loss: 0.6520 - val_accuracy: 0.8125\n",
      "Epoch 29/50\n",
      "5/5 [==============================] - 0s 82ms/step - loss: 0.1664 - accuracy: 0.9438 - val_loss: 0.7384 - val_accuracy: 0.8500\n",
      "Epoch 30/50\n",
      "5/5 [==============================] - 0s 80ms/step - loss: 0.1830 - accuracy: 0.9094 - val_loss: 0.7068 - val_accuracy: 0.7875\n",
      "Epoch 31/50\n",
      "5/5 [==============================] - 0s 84ms/step - loss: 0.1743 - accuracy: 0.9219 - val_loss: 0.6735 - val_accuracy: 0.8000\n",
      "Epoch 32/50\n",
      "5/5 [==============================] - 0s 81ms/step - loss: 0.1666 - accuracy: 0.9250 - val_loss: 0.6888 - val_accuracy: 0.8375\n",
      "Epoch 33/50\n",
      "5/5 [==============================] - 0s 78ms/step - loss: 0.1534 - accuracy: 0.9344 - val_loss: 0.7229 - val_accuracy: 0.8125\n",
      "Epoch 34/50\n",
      "5/5 [==============================] - 0s 77ms/step - loss: 0.1357 - accuracy: 0.9312 - val_loss: 0.7665 - val_accuracy: 0.8125\n",
      "Epoch 35/50\n",
      "5/5 [==============================] - 0s 81ms/step - loss: 0.1479 - accuracy: 0.9281 - val_loss: 0.7056 - val_accuracy: 0.8250\n",
      "Epoch 36/50\n",
      "5/5 [==============================] - 0s 79ms/step - loss: 0.1693 - accuracy: 0.9156 - val_loss: 0.7291 - val_accuracy: 0.8250\n",
      "Epoch 37/50\n",
      "5/5 [==============================] - 0s 79ms/step - loss: 0.1463 - accuracy: 0.9438 - val_loss: 0.7087 - val_accuracy: 0.8125\n",
      "Epoch 38/50\n",
      "5/5 [==============================] - 0s 77ms/step - loss: 0.1422 - accuracy: 0.9375 - val_loss: 0.7100 - val_accuracy: 0.8250\n",
      "Epoch 39/50\n",
      "5/5 [==============================] - 0s 79ms/step - loss: 0.1372 - accuracy: 0.9375 - val_loss: 0.7758 - val_accuracy: 0.8375\n",
      "Epoch 40/50\n",
      "5/5 [==============================] - 0s 79ms/step - loss: 0.1721 - accuracy: 0.9312 - val_loss: 0.7728 - val_accuracy: 0.7750\n",
      "Epoch 41/50\n",
      "5/5 [==============================] - 0s 79ms/step - loss: 0.1727 - accuracy: 0.9375 - val_loss: 0.8312 - val_accuracy: 0.7625\n",
      "Epoch 42/50\n",
      "5/5 [==============================] - 0s 78ms/step - loss: 0.1520 - accuracy: 0.9344 - val_loss: 0.7933 - val_accuracy: 0.8125\n",
      "Epoch 43/50\n",
      "5/5 [==============================] - 0s 81ms/step - loss: 0.1700 - accuracy: 0.9250 - val_loss: 0.8200 - val_accuracy: 0.7750\n",
      "Epoch 44/50\n",
      "5/5 [==============================] - 0s 80ms/step - loss: 0.1116 - accuracy: 0.9469 - val_loss: 0.7099 - val_accuracy: 0.8125\n",
      "Epoch 45/50\n",
      "5/5 [==============================] - 0s 81ms/step - loss: 0.1462 - accuracy: 0.9406 - val_loss: 0.7490 - val_accuracy: 0.8125\n",
      "Epoch 46/50\n",
      "5/5 [==============================] - 0s 77ms/step - loss: 0.1260 - accuracy: 0.9500 - val_loss: 0.7498 - val_accuracy: 0.8000\n",
      "Epoch 47/50\n",
      "5/5 [==============================] - 0s 79ms/step - loss: 0.1476 - accuracy: 0.9500 - val_loss: 0.7818 - val_accuracy: 0.8250\n",
      "Epoch 48/50\n",
      "5/5 [==============================] - 0s 78ms/step - loss: 0.1827 - accuracy: 0.9094 - val_loss: 0.8526 - val_accuracy: 0.8125\n",
      "Epoch 49/50\n",
      "5/5 [==============================] - 0s 77ms/step - loss: 0.1412 - accuracy: 0.9406 - val_loss: 0.8078 - val_accuracy: 0.7875\n",
      "Epoch 50/50\n",
      "5/5 [==============================] - 0s 79ms/step - loss: 0.1244 - accuracy: 0.9406 - val_loss: 0.7873 - val_accuracy: 0.8125\n"
     ]
    },
    {
     "data": {
      "text/plain": "<keras.callbacks.History at 0x1f9001677d0>"
     },
     "execution_count": 67,
     "metadata": {},
     "output_type": "execute_result"
    }
   ],
   "source": [
    "model.fit(X_train, y_train, validation_data=(X_test, y_test), epochs=50, batch_size=64)"
   ],
   "metadata": {
    "collapsed": false
   }
  },
  {
   "cell_type": "markdown",
   "source": [
    "# Evaluation"
   ],
   "metadata": {
    "collapsed": false
   }
  },
  {
   "cell_type": "code",
   "execution_count": 54,
   "outputs": [
    {
     "name": "stdout",
     "output_type": "stream",
     "text": [
      "3/3 [==============================] - 0s 8ms/step\n"
     ]
    },
    {
     "data": {
      "text/plain": "array([[9.99996662e-01, 8.92137109e-07, 2.02067463e-06, 4.28682398e-07],\n       [2.09332095e-03, 9.90646005e-01, 1.04115007e-03, 6.21955376e-03],\n       [1.00000000e+00, 1.74588294e-19, 6.23201950e-15, 1.04728361e-15],\n       [6.48318892e-05, 9.99935150e-01, 9.80710196e-13, 4.58637251e-13],\n       [1.61338206e-02, 9.81923163e-01, 1.94207474e-03, 9.85413635e-07],\n       [2.30030697e-02, 9.76996720e-01, 2.38886628e-07, 2.08962161e-13],\n       [3.60177128e-22, 2.15783794e-17, 1.00000000e+00, 5.80926489e-20],\n       [2.67745078e-01, 7.32146382e-01, 1.08546112e-04, 4.54045290e-09],\n       [9.82115507e-01, 1.73202474e-02, 5.61185065e-04, 3.12380348e-06],\n       [2.65420973e-22, 3.27710728e-17, 1.00000000e+00, 3.13590216e-24],\n       [9.99779046e-01, 2.16585083e-09, 3.90060904e-06, 2.17036199e-04],\n       [8.59597435e-07, 3.64199693e-09, 6.14797528e-08, 9.99999046e-01],\n       [9.72217858e-01, 2.77565122e-02, 2.56449439e-05, 1.38696921e-09],\n       [1.18879252e-03, 9.98782337e-01, 2.88718638e-05, 5.41251888e-09],\n       [2.25217696e-15, 2.91854160e-13, 1.00000000e+00, 1.21709494e-18],\n       [2.69035972e-03, 9.97309446e-01, 1.51857080e-07, 1.43041170e-08],\n       [2.80776024e-01, 4.67345208e-01, 2.38674864e-01, 1.32039189e-02],\n       [1.36002612e-07, 3.02317227e-10, 3.31792798e-08, 9.99999881e-01],\n       [8.99134815e-01, 9.98395234e-02, 9.80493147e-04, 4.51068117e-05],\n       [8.78678804e-07, 3.69070392e-08, 2.64448943e-07, 9.99998808e-01],\n       [3.23731042e-02, 9.67618167e-01, 8.68721145e-06, 1.17858512e-09],\n       [1.00000000e+00, 2.12693969e-08, 1.14430536e-08, 3.55612519e-14],\n       [2.64091545e-06, 6.66489996e-07, 2.14924944e-06, 9.99994516e-01],\n       [6.42746082e-03, 9.91546929e-01, 2.00153980e-03, 2.41186826e-05],\n       [9.99925256e-01, 5.03105221e-05, 2.44363800e-05, 4.81521418e-08],\n       [1.48370943e-03, 9.40689921e-01, 5.52579411e-04, 5.72736971e-02],\n       [1.39911461e-20, 1.67633300e-16, 1.00000000e+00, 1.80240111e-21],\n       [9.99987245e-01, 1.02734175e-05, 2.48238848e-06, 2.44065657e-09],\n       [2.99713574e-05, 9.99969959e-01, 3.14968638e-08, 8.48657977e-10],\n       [6.96647612e-06, 2.52936524e-03, 9.97463584e-01, 1.84992008e-10],\n       [3.57696384e-09, 2.76437172e-11, 2.04632333e-09, 1.00000000e+00],\n       [7.84291569e-06, 2.46714382e-08, 1.17457239e-06, 9.99990940e-01],\n       [2.53244943e-04, 9.99734223e-01, 1.20263921e-05, 4.34621995e-07],\n       [1.72868460e-01, 8.27131331e-01, 2.21807909e-07, 1.19643198e-10],\n       [8.36559772e-01, 1.63415596e-01, 2.44886687e-05, 9.08305893e-08],\n       [9.20917023e-11, 4.47215642e-09, 1.00000000e+00, 1.74479287e-13],\n       [1.47844061e-14, 1.47146195e-09, 1.00000000e+00, 2.12529872e-18],\n       [3.23670139e-19, 3.55257773e-15, 1.00000000e+00, 1.41237268e-17],\n       [3.33325123e-09, 9.65511785e-12, 4.97745234e-10, 1.00000000e+00],\n       [1.90481522e-25, 3.36842062e-21, 1.00000000e+00, 1.07362811e-25],\n       [4.47828183e-14, 4.65257887e-16, 1.69577866e-13, 1.00000000e+00],\n       [1.12466542e-02, 9.88141954e-01, 6.11407333e-04, 5.83323683e-08],\n       [9.46584940e-02, 9.03099239e-01, 1.99064659e-03, 2.51614401e-04],\n       [9.92651641e-01, 4.93170694e-03, 2.40917527e-03, 7.55379369e-06],\n       [3.86464497e-04, 9.99298692e-01, 3.14805860e-04, 1.25696276e-09],\n       [7.66228969e-10, 1.17603767e-12, 6.53203533e-11, 1.00000000e+00],\n       [1.23739192e-21, 4.03778985e-17, 1.00000000e+00, 1.09251480e-22],\n       [5.18682484e-08, 6.23108093e-11, 4.77712181e-09, 1.00000000e+00],\n       [9.99998689e-01, 4.68722931e-07, 8.67151584e-07, 4.25939461e-09],\n       [7.84545406e-08, 3.35330930e-11, 1.06531006e-09, 9.99999881e-01],\n       [9.99975681e-01, 3.48946855e-06, 2.08012189e-05, 6.23315088e-08],\n       [1.85225381e-12, 1.38575018e-09, 1.00000000e+00, 2.64839257e-12],\n       [1.10195291e-15, 1.94781366e-12, 1.00000000e+00, 3.36130219e-14],\n       [5.24051636e-02, 1.77182499e-02, 6.95008435e-04, 9.29181516e-01],\n       [2.51445820e-09, 2.25690648e-08, 1.69432635e-10, 1.00000000e+00],\n       [9.93826330e-01, 4.40173689e-03, 1.76887249e-03, 2.93834842e-06],\n       [4.03033555e-01, 5.95664561e-01, 1.25504937e-03, 4.68886028e-05],\n       [1.44825192e-08, 6.93418803e-12, 1.14110366e-08, 1.00000000e+00],\n       [9.97593820e-01, 9.66463122e-04, 1.43939699e-03, 2.20115140e-07],\n       [2.42403439e-06, 8.70062955e-09, 1.59139745e-07, 9.99997377e-01],\n       [7.46369567e-17, 6.41215434e-13, 1.00000000e+00, 8.73916007e-19],\n       [5.92473475e-03, 9.81496394e-01, 1.24358609e-02, 1.42980469e-04],\n       [4.04899299e-01, 5.08438528e-01, 8.62153098e-02, 4.46948456e-04],\n       [2.31752620e-06, 9.99997735e-01, 4.64719285e-09, 1.32647647e-14],\n       [3.67950741e-03, 9.94814277e-01, 1.50618632e-03, 5.47907497e-10],\n       [9.99959230e-01, 2.28781937e-05, 1.74032357e-05, 4.76442011e-07],\n       [4.81797215e-08, 9.99426722e-11, 1.86703236e-10, 1.00000000e+00],\n       [4.47108119e-04, 9.99535441e-01, 5.74356909e-06, 1.16519386e-05],\n       [2.97339483e-07, 2.87828983e-09, 1.35010211e-07, 9.99999523e-01],\n       [1.16241421e-03, 9.98581290e-01, 2.54063547e-04, 2.29779357e-06],\n       [2.52083333e-18, 2.03672342e-14, 1.00000000e+00, 5.60591617e-17],\n       [3.82492024e-11, 1.06147322e-08, 1.00000000e+00, 5.43532504e-14],\n       [9.99971747e-01, 5.97359758e-07, 2.56273270e-05, 2.05553556e-06],\n       [9.99564469e-01, 3.25767935e-04, 1.04629638e-04, 5.16367891e-06],\n       [4.20890711e-02, 1.75504629e-05, 7.97912246e-04, 9.57095385e-01],\n       [1.00000000e+00, 9.50861279e-10, 6.69662015e-09, 2.95789122e-11],\n       [5.34745932e-01, 4.39594388e-01, 2.07877103e-02, 4.87193139e-03],\n       [3.45376635e-12, 7.37179391e-16, 5.80126930e-13, 1.00000000e+00],\n       [1.11629163e-07, 3.14802767e-11, 1.16031629e-08, 9.99999881e-01],\n       [4.61638579e-03, 3.31334248e-02, 9.62010324e-01, 2.39937057e-04]],\n      dtype=float32)"
     },
     "execution_count": 54,
     "metadata": {},
     "output_type": "execute_result"
    }
   ],
   "source": [
    "model.predict(X_test)"
   ],
   "metadata": {
    "collapsed": false
   }
  },
  {
   "cell_type": "code",
   "execution_count": 55,
   "outputs": [
    {
     "name": "stdout",
     "output_type": "stream",
     "text": [
      "3/3 [==============================] - 0s 9ms/step - loss: 0.5506 - accuracy: 0.8875\n"
     ]
    },
    {
     "data": {
      "text/plain": "[0.5506342649459839, 0.887499988079071]"
     },
     "execution_count": 55,
     "metadata": {},
     "output_type": "execute_result"
    }
   ],
   "source": [
    "model.evaluate(X_test, y_test)"
   ],
   "metadata": {
    "collapsed": false
   }
  },
  {
   "cell_type": "markdown",
   "source": [
    "# Save the model"
   ],
   "metadata": {
    "collapsed": false
   }
  },
  {
   "cell_type": "code",
   "execution_count": 27,
   "outputs": [],
   "source": [
    "model.save('model.h5')"
   ],
   "metadata": {
    "collapsed": false
   }
  },
  {
   "cell_type": "code",
   "execution_count": 42,
   "outputs": [
    {
     "name": "stderr",
     "output_type": "stream",
     "text": [
      "WARNING:absl:Found untraced functions such as _jit_compiled_convolution_op, _jit_compiled_convolution_op, _update_step_xla while saving (showing 3 of 3). These functions will not be directly callable after loading.\n"
     ]
    },
    {
     "name": "stdout",
     "output_type": "stream",
     "text": [
      "INFO:tensorflow:Assets written to: C:\\Users\\ciwoe\\AppData\\Local\\Temp\\tmp77xknnou\\assets\n"
     ]
    },
    {
     "name": "stderr",
     "output_type": "stream",
     "text": [
      "INFO:tensorflow:Assets written to: C:\\Users\\ciwoe\\AppData\\Local\\Temp\\tmp77xknnou\\assets\n"
     ]
    },
    {
     "data": {
      "text/plain": "3823684"
     },
     "execution_count": 42,
     "metadata": {},
     "output_type": "execute_result"
    }
   ],
   "source": [
    "#convert the model to tflite\n",
    "converter = tf.lite.TFLiteConverter.from_keras_model(model)\n",
    "tflite_model = converter.convert()\n",
    "open(\"model.tflite\", \"wb\").write(tflite_model)"
   ],
   "metadata": {
    "collapsed": false
   }
  },
  {
   "cell_type": "markdown",
   "source": [
    "# Quantization"
   ],
   "metadata": {
    "collapsed": false
   }
  },
  {
   "cell_type": "code",
   "execution_count": 68,
   "outputs": [
    {
     "name": "stderr",
     "output_type": "stream",
     "text": [
      "WARNING:absl:Found untraced functions such as _jit_compiled_convolution_op, _jit_compiled_convolution_op, _update_step_xla while saving (showing 3 of 3). These functions will not be directly callable after loading.\n"
     ]
    },
    {
     "name": "stdout",
     "output_type": "stream",
     "text": [
      "INFO:tensorflow:Assets written to: C:\\Users\\ciwoe\\AppData\\Local\\Temp\\tmp7htdyq_t\\assets\n"
     ]
    },
    {
     "name": "stderr",
     "output_type": "stream",
     "text": [
      "INFO:tensorflow:Assets written to: C:\\Users\\ciwoe\\AppData\\Local\\Temp\\tmp7htdyq_t\\assets\n"
     ]
    },
    {
     "data": {
      "text/plain": "292200"
     },
     "execution_count": 68,
     "metadata": {},
     "output_type": "execute_result"
    }
   ],
   "source": [
    "# post training quantization\n",
    "converter = tf.lite.TFLiteConverter.from_keras_model(model)\n",
    "converter.optimizations = [tf.lite.Optimize.DEFAULT]\n",
    "tflite_quant_model = converter.convert()\n",
    "open(\"model_quant.tflite\", \"wb\").write(tflite_quant_model)"
   ],
   "metadata": {
    "collapsed": false
   }
  },
  {
   "cell_type": "code",
   "execution_count": null,
   "outputs": [],
   "source": [],
   "metadata": {
    "collapsed": false
   }
  }
 ],
 "metadata": {
  "kernelspec": {
   "display_name": "Python 3",
   "language": "python",
   "name": "python3"
  },
  "language_info": {
   "codemirror_mode": {
    "name": "ipython",
    "version": 2
   },
   "file_extension": ".py",
   "mimetype": "text/x-python",
   "name": "python",
   "nbconvert_exporter": "python",
   "pygments_lexer": "ipython2",
   "version": "2.7.6"
  }
 },
 "nbformat": 4,
 "nbformat_minor": 0
}
